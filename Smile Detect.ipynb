{
 "cells": [
  {
   "cell_type": "code",
   "execution_count": null,
   "metadata": {
    "collapsed": true
   },
   "outputs": [],
   "source": [
    "%matplotlib inline\n",
    "from pylab import *"
   ]
  },
  {
   "cell_type": "code",
   "execution_count": null,
   "metadata": {
    "collapsed": true
   },
   "outputs": [],
   "source": [
    "from sklearn import datasets\n",
    "olivetti = datasets.fetch_olivetti_faces()\n",
    "X, y = olivetti.data, olivetti.target"
   ]
  },
  {
   "cell_type": "code",
   "execution_count": null,
   "metadata": {},
   "outputs": [],
   "source": [
    "for i in range(10):\n",
    "    face = olivetti.images[i]\n",
    "    subplot(1, 10, i + 1)\n",
    "    imshow(face.reshape((64, 64)), cmap='gray')\n",
    "    axis('off')"
   ]
  },
  {
   "cell_type": "code",
   "execution_count": null,
   "metadata": {
    "collapsed": true
   },
   "outputs": [],
   "source": [
    "smiling_indices = [20,21,26,27,29, 40,41,42,43,44,45,46,\\\n",
    "                   47,48,49,50, 51, 52,61,69,70,72,75, 86,90,91,92, 93, 95,111,\\\n",
    "                   114,116,119,123,129,141,153,160,161,\\\n",
    "                   162,163,164,167,174,186,190,191,197,\\\n",
    "                   200,201,202,213,214,216,217, 219, 234,240,242,246,\\\n",
    "                   255,260,261,268,276,300,303, 305,310, 311,312, 313, 314, 315, 316,\\\n",
    "                   324,325, 326, 327, 328, 340,341,342, 343,\\\n",
    "                   348,349, 367,380,381,382,383,384,385,386,387,\\\n",
    "                   388,390, 391,393,396,397,399]\n",
    "\n",
    "not_smiling_indices = list(set(range(400)) - set(smiling_indices))"
   ]
  },
  {
   "cell_type": "code",
   "execution_count": null,
   "metadata": {},
   "outputs": [],
   "source": [
    "fig = plt.figure(figsize=(12, 12))\n",
    "fig.subplots_adjust(left=0, right=1, bottom=0, top=1, hspace=0.05, wspace=0.05)\n",
    "for i in range(len(smiling_indices)):\n",
    "    # plot the images in a matrix of 20x20\n",
    "    p = fig.add_subplot(20, 20, i + 1)\n",
    "    p.imshow(olivetti.images[smiling_indices[i]], cmap=plt.cm.bone)\n",
    "    \n",
    "    # label the image with the target value\n",
    "    p.text(0, 30, \"smiling\")\n",
    "    p.text(0, 60, str(smiling_indices[i]))\n",
    "    p.axis('off')\n"
   ]
  },
  {
   "cell_type": "code",
   "execution_count": null,
   "metadata": {},
   "outputs": [],
   "source": [
    "\n",
    "fig = plt.figure(figsize=(12, 12))\n",
    "fig.subplots_adjust(left=0, right=1, bottom=0, top=1, hspace=0.05, wspace=0.05)\n",
    "for i in range(len(not_smiling_indices)):\n",
    "    # plot the images in a matrix of 20x20\n",
    "    p = fig.add_subplot(20, 20, i + 1)\n",
    "    p.imshow(olivetti.images[not_smiling_indices[i]], cmap=plt.cm.bone)\n",
    "\n",
    "    # label the image with the target value\n",
    "    p.text(0, 30, \"not smiling\")\n",
    "    p.text(0, 60, str(not_smiling_indices[i]))\n",
    "    p.axis('off')"
   ]
  },
  {
   "cell_type": "code",
   "execution_count": null,
   "metadata": {
    "collapsed": true
   },
   "outputs": [],
   "source": [
    "from sklearn.svm import SVC\n",
    "svc_1 = SVC(kernel='linear', class_weight={1:3}, C=100)\n",
    "\n",
    "data = olivetti.data\n",
    "\n",
    "target = []\n",
    "for i in range(400):\n",
    "    if(i in smiling_indices):\n",
    "        target.append(1)\n",
    "    else:\n",
    "        target.append(0)\n",
    "        "
   ]
  },
  {
   "cell_type": "code",
   "execution_count": null,
   "metadata": {
    "collapsed": true
   },
   "outputs": [],
   "source": [
    "from sklearn.model_selection import train_test_split\n",
    "\n",
    "X_train, X_test, y_train, y_test = train_test_split(\n",
    "        data, target, test_size=0.3, random_state=0)"
   ]
  },
  {
   "cell_type": "code",
   "execution_count": null,
   "metadata": {},
   "outputs": [],
   "source": [
    "from sklearn.cross_validation import cross_val_score, KFold\n",
    "from scipy.stats import sem\n",
    "\n",
    "def evaluate_cross_validation(clf, X, y, K):\n",
    "    # create a k-fold cross validation iterator\n",
    "    cv = KFold(len(y), K, shuffle=True, random_state=0)\n",
    "    # by default the score used is the one returned by score method of the estimator (accuracy)\n",
    "    scores = cross_val_score(clf, X, y, cv=cv)\n",
    "    print (scores)\n",
    "    print (\"Mean score: {0:.3f} (+/-{1:.3f})\".format(\n",
    "        np.mean(scores), sem(scores)))"
   ]
  },
  {
   "cell_type": "code",
   "execution_count": null,
   "metadata": {},
   "outputs": [],
   "source": [
    "evaluate_cross_validation(svc_1, X_train, y_train, 5)"
   ]
  },
  {
   "cell_type": "code",
   "execution_count": null,
   "metadata": {
    "collapsed": true
   },
   "outputs": [],
   "source": [
    "from sklearn import metrics\n",
    "\n",
    "def train_and_evaluate(clf, X_train, X_test, y_train, y_test):\n",
    "    \n",
    "    clf.fit(X_train, y_train)\n",
    "    \n",
    "    print (\"Accuracy on training set:\")\n",
    "    print (clf.score(X_train, y_train))\n",
    "    print (\"Accuracy on testing set:\")\n",
    "    print (clf.score(X_test, y_test))\n",
    "    \n",
    "    y_pred = clf.predict(X_test)\n",
    "    \n",
    "    print (\"Classification Report:\")\n",
    "    print (metrics.classification_report(y_test, y_pred))\n",
    "    print (\"Confusion Matrix:\")\n",
    "    print (metrics.confusion_matrix(y_test, y_pred))"
   ]
  },
  {
   "cell_type": "code",
   "execution_count": null,
   "metadata": {},
   "outputs": [],
   "source": [
    "train_and_evaluate(svc_1, X_train, X_test, y_train, y_test)"
   ]
  },
  {
   "cell_type": "code",
   "execution_count": null,
   "metadata": {},
   "outputs": [],
   "source": [
    "import cv2\n",
    "from pylab import *\n",
    "%matplotlib inline\n",
    "\n",
    "face_cascade = cv2.CascadeClassifier('/home/francois/Projets/opencv-3.3.0/data/haarcascades/haarcascade_frontalface_default.xml')\n",
    "\n",
    "img = cv2.imread('/home/francois/Projets/Smile Detect/smile_cora.jpg')\n",
    "img = cv2.resize(img,None,fx=.4, fy=.4, interpolation = cv2.INTER_CUBIC)\n",
    "gray = cv2.cvtColor(img, cv2.COLOR_BGR2GRAY)\n",
    "imshow(gray, cmap=plt.cm.bone)"
   ]
  },
  {
   "cell_type": "code",
   "execution_count": null,
   "metadata": {},
   "outputs": [],
   "source": [
    "faces = face_cascade.detectMultiScale(gray, 1.3, 5)\n",
    "for (x,y,w,h) in faces:\n",
    "    roi_gray = gray[y:y+h, x:x+w]\n",
    "    \n",
    "imshow(roi_gray, cmap=plt.cm.bone)"
   ]
  },
  {
   "cell_type": "code",
   "execution_count": null,
   "metadata": {},
   "outputs": [],
   "source": [
    "from scipy.ndimage import zoom\n",
    "horizontal_offset = int(0.1 * w)\n",
    "vertical_offset = int(0.06 * h)\n",
    "extracted_face = gray[y+vertical_offset:y+h, \n",
    "                      x+horizontal_offset:x-horizontal_offset+w]\n",
    "extracted_face = zoom(extracted_face, (64. / extracted_face.shape[0], \n",
    "                                 64. / extracted_face.shape[1]))\n",
    "\n",
    "imshow(extracted_face, cmap=plt.cm.bone)"
   ]
  },
  {
   "cell_type": "code",
   "execution_count": null,
   "metadata": {},
   "outputs": [],
   "source": [
    "\n",
    "new_extracted_face = zoom(extracted_face, (64. / extracted_face.shape[0], \n",
    "                                           64. / extracted_face.shape[1]))\n",
    "new_extracted_face = new_extracted_face.astype(float32)\n",
    "new_extracted_face /= float(new_extracted_face.max())\n",
    "imshow(new_extracted_face, cmap=plt.cm.bone)"
   ]
  },
  {
   "cell_type": "code",
   "execution_count": null,
   "metadata": {},
   "outputs": [],
   "source": [
    "svc_1.predict(new_extracted_face.ravel().reshape(1,-1))"
   ]
  },
  {
   "cell_type": "code",
   "execution_count": null,
   "metadata": {
    "collapsed": true
   },
   "outputs": [],
   "source": [
    "def detect_face(frame):\n",
    "    cascPath = \"/home/francois/Projets/opencv-3.3.0/data/haarcascades/haarcascade_frontalface_default.xml\"\n",
    "    faceCascade = cv2.CascadeClassifier(cascPath)\n",
    "    gray = cv2.cvtColor(frame, cv2.COLOR_BGR2GRAY)\n",
    "    detected_faces = faceCascade.detectMultiScale(\n",
    "            gray,\n",
    "            scaleFactor=1.1,\n",
    "            minNeighbors=6,\n",
    "            minSize=(100, 100)\n",
    "        )\n",
    "    return gray, detected_faces\n",
    "\n",
    "def extract_face_features(gray, detected_face, offset_coefficients):\n",
    "    x, y, w, h = detected_face\n",
    "    horizontal_offset = int(offset_coefficients[0] * w)\n",
    "    vertical_offset = int(offset_coefficients[1] * h)\n",
    "    extracted_face = gray[y+vertical_offset:y+h, \n",
    "                      x+horizontal_offset:x-horizontal_offset+w]\n",
    "    new_extracted_face = zoom(extracted_face, (64. / extracted_face.shape[0], \n",
    "                                           64. / extracted_face.shape[1]))\n",
    "    new_extracted_face = new_extracted_face.astype(float32)\n",
    "    new_extracted_face /= float(new_extracted_face.max())\n",
    "    return new_extracted_face\n",
    "\n",
    "def predict_face_is_smiling(extracted_face):\n",
    "    return svc_1.predict(extracted_face.ravel().reshape(1,-1))"
   ]
  },
  {
   "cell_type": "code",
   "execution_count": null,
   "metadata": {},
   "outputs": [],
   "source": [
    "frame = cv2.imread('/home/francois/Projets/Smile Detect/smile_cora.jpg')\n",
    "\n",
    "gray, detected_faces = detect_face(frame)\n",
    "\n",
    "face_index = 0\n",
    "\n",
    "for face in detected_faces:\n",
    "        (x, y, w, h) = face\n",
    "        if w > 100:\n",
    "            # draw rectangle around face \n",
    "            cv2.rectangle(frame, (x, y), (x+w, y+h), (0, 255, 0), 2)\n",
    "            \n",
    "            # extract features\n",
    "            extracted_face = extract_face_features(gray, face, (0.1, 0.06)) #(0.075, 0.05)\n",
    "\n",
    "            # predict smile\n",
    "            prediction_result = predict_face_is_smiling(extracted_face)\n",
    "\n",
    "            # draw extracted face in the top right corner\n",
    "            frame[face_index * 64: (face_index + 1) * 64, -65:-1, :] = cv2.cvtColor(extracted_face * 255, cv2.COLOR_GRAY2RGB)\n",
    "\n",
    "            # annotate main image with a label\n",
    "            if prediction_result == 1:\n",
    "                cv2.putText(frame, \"SMILING\",(x,y), cv2.FONT_HERSHEY_SIMPLEX, 2, 155, 10)\n",
    "            else:\n",
    "                cv2.putText(frame, \"not smiling\",(x,y), cv2.FONT_HERSHEY_SIMPLEX, 2, 155, 10)\n",
    "\n",
    "            # increment counter\n",
    "            face_index += 1\n",
    "\n",
    "\n",
    "\n",
    "imshow(frame, cmap=plt.cm.bone)"
   ]
  },
  {
   "cell_type": "code",
   "execution_count": null,
   "metadata": {
    "collapsed": true
   },
   "outputs": [],
   "source": []
  },
  {
   "cell_type": "code",
   "execution_count": null,
   "metadata": {
    "collapsed": true
   },
   "outputs": [],
   "source": []
  }
 ],
 "metadata": {
  "kernelspec": {
   "display_name": "Python 2",
   "language": "python",
   "name": "python2"
  },
  "language_info": {
   "codemirror_mode": {
    "name": "ipython",
    "version": 2
   },
   "file_extension": ".py",
   "mimetype": "text/x-python",
   "name": "python",
   "nbconvert_exporter": "python",
   "pygments_lexer": "ipython2",
   "version": "2.7.13"
  }
 },
 "nbformat": 4,
 "nbformat_minor": 2
}
